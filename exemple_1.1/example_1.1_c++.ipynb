{
 "cells": [
  {
   "cell_type": "markdown",
   "metadata": {},
   "source": [
    "# Cours - Programmation orientée objet\n",
    "### Département de Génie Informatique et Génie Logiciel, Polytechnique Montréal\n",
    "#### Auteur: Benjamin De Leener, Ph.D.\n",
    "\n",
    "Ce notebook présente un exemple d'une classe Velo et de la manipulation d'un objet. Dans cet exemple, prêtez attention aux principes d'encapsulation et d'abstraction."
   ]
  },
  {
   "cell_type": "markdown",
   "metadata": {},
   "source": [
    "La classe `Velo` est définie dans le fichier `Velo.hpp`. Le code suivant permet d'importer la classe `Velo` dans le noyau.\n",
    "La classe `Velo` est constitué de plusieurs attributs (couleur, position, vitesse, etc.) et méthodes (avance, recule, accelere, etc.)."
   ]
  },
  {
   "cell_type": "code",
   "execution_count": null,
   "metadata": {},
   "outputs": [],
   "source": [
    "#include <iostream>\n",
    "#include \"Velo.hpp\"\n",
    "\n",
    "using namespace std;"
   ]
  },
  {
   "cell_type": "markdown",
   "metadata": {},
   "source": [
    "Une fois importée, nous pouvons instancier un objet de type `Velo`, afin de pouvoir le manipuler. La ligne suivante crée un objet Velo avec l'un des constructeurs de la classe, nous permettant de lui assigner une couleur spécifique lors de sa création."
   ]
  },
  {
   "cell_type": "code",
   "execution_count": null,
   "metadata": {},
   "outputs": [],
   "source": [
    "Velo monVelo = Velo(\"gris\");"
   ]
  },
  {
   "cell_type": "markdown",
   "metadata": {},
   "source": [
    "Essayons de récupérer la position initiale du vélo."
   ]
  },
  {
   "cell_type": "code",
   "execution_count": null,
   "metadata": {},
   "outputs": [],
   "source": [
    "int positionMonVelo;"
   ]
  },
  {
   "cell_type": "markdown",
   "metadata": {},
   "source": [
    "De par le principe d'encapsulation, accéder aux attributs privés d'un objet n'est pas permis. La ligne suivante ne peut donc fonctionner."
   ]
  },
  {
   "cell_type": "code",
   "execution_count": null,
   "metadata": {},
   "outputs": [],
   "source": [
    "positionMonVelo = monVelo.position_;"
   ]
  },
  {
   "cell_type": "markdown",
   "metadata": {},
   "source": [
    "Accéder à la valeur des attributs privés d'un objet doit se faire grâce à des méthodes publiques, comme `Velo::getPosition()` et `Velo::getVitesse()`. Cet exemple illustre le principe d'**encapsulation**."
   ]
  },
  {
   "cell_type": "code",
   "execution_count": null,
   "metadata": {},
   "outputs": [],
   "source": [
    "positionMonVelo = monVelo.getPosition();\n",
    "cout << \"La position et la vitesse de mon velo sont: \" << positionMonVelo << \" et \" << monVelo.getVitesse() << endl;"
   ]
  },
  {
   "cell_type": "markdown",
   "metadata": {},
   "source": [
    "Les méthodes définies par une classe permettent d'en manipuler les objets. Dans l'exemple suivant, nous utilisons les méthodes `Velo::accelere()`, `Velo::avance()` et `Velo::freine()` pour déplacer le vélo.\n",
    "\n",
    "**Exercice:** Essayez de modifier le comportement du vélo, par exemple en le faisant reculer et en l'accélérant un peu plus.\n",
    "\n",
    "Afin de manipuler un objet de la classe `Velo`, vous n'avez pas besoin de comprendre le fonctionnement de ses méthodes. Cet exemple illustre le principe d'**abstraction**."
   ]
  },
  {
   "cell_type": "code",
   "execution_count": null,
   "metadata": {},
   "outputs": [],
   "source": [
    "#include <thread>\n",
    "#include <chrono>\n",
    "\n",
    "// Simulation de mouvement\n",
    "monVelo.accelere();\n",
    "for (int i=0; i<10; i++)\n",
    "{\n",
    "    monVelo.avance();\n",
    "    this_thread::sleep_for(chrono::milliseconds(500));\n",
    "}\n",
    "monVelo.freine();\n",
    "\n",
    "cout << \"La position et la vitesse de mon velo sont: \" << monVelo.getPosition() << \" et \" << monVelo.getVitesse() << endl;"
   ]
  },
  {
   "cell_type": "code",
   "execution_count": null,
   "metadata": {},
   "outputs": [],
   "source": []
  }
 ],
 "metadata": {
  "kernelspec": {
   "display_name": "C++14",
   "language": "C++14",
   "name": "xeus-cling-cpp14"
  },
  "language_info": {
   "codemirror_mode": "text/x-c++src",
   "file_extension": ".cpp",
   "mimetype": "text/x-c++src",
   "name": "c++",
   "version": "-std=c++14"
  }
 },
 "nbformat": 4,
 "nbformat_minor": 2
}
